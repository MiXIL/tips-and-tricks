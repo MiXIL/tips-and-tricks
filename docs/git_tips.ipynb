{
 "cells": [
  {
   "cell_type": "markdown",
   "metadata": {},
   "source": [
    "# Git\n",
    "This page is mainly for tips and tricks for git. Please feel free to add/modify this page.  \n",
    "\n",
    "Git is a code management tool with version contorol.  \n",
    "\n",
    "## Mixil Git Team\n",
    "\n",
    "### BitBucket \n",
    "MiXIL Bitbucket: [https://bitbucket.org/usc_mixil/](https://bitbucket.org/usc_mixil/)  \n",
    "To Get access contact Amer Melebari (amelebar@usc.edu)\n",
    "\n",
    "### GitHub\n",
    "MiXIL GitHub: [https://github.com/MiXIL](https://github.com/MiXIL)  \n",
    "To Get access contact Sam Prager (sprager@usc.edu)\n",
    "\n",
    "## Git Client Apps \n",
    "\n",
    "### SourceTree <img src=\"sourcetree_logo.png\" alt=\"SourceTree\" style=\" float: right; padding: 0 20px 20px 0;\" width=\"150\"/>   \n",
    "\n",
    "[SourceTree][sourcetree_website] is available only for Windows and Mac OS. \n",
    "\n",
    "### Git Cola <img src=\"cola_app_logo.png\" alt=\"SourceTree\" style=\" float: right; padding: 0 20px 20px 0;\" width=\"100\"/>  \n",
    "\n",
    "[Git Cola][git_cola_website] is recommended for Ubuntu OS, as SourceTree is not available. You can install it from Ubuntu Software.\n",
    "\n",
    "## Tips\n",
    "\n",
    "### General tips\n",
    "* Use Branches when you add a feature to your code, especially if multiple users are developing the code.  \n",
    "* Use .gitignore  file to prevent git from uploading system/unwanted files to the cloud  \n",
    "* Use ReadMe file  \n",
    "    * State the purpose of the code\n",
    "    * The codes languages\n",
    "    * The required packages and how to install them\n",
    "    * How to use the code\n",
    "    * Who should the user contact?\n",
    "\n",
    "### Use SSH Key\n",
    "using SSH key makes it easier for you to use git (you don't have to type the user/password each time)  \n",
    "a complete tutorial on how to set up your SSH key is in [BitBucket Support wiki][ssh_key_how] \n",
    "\n",
    "### Squash your latests commits into one\n",
    "squashing small commits into one commit makes your tree much cleaner, but you need to be very careful as you may permanently delete some commits  \n",
    "the details of how to do it in [Git: Squash your latests commits into one][git_squash_tatorial]\n",
    "\n",
    "\n",
    "\n",
    "[//]: # (These are reference links used in the body of this note and get stripped out when the markdown processor does its job. There is no need to format nicely because it shouldn't be seen. Thanks SO - http://stackoverflow.com/questions/4823468/store-comments-in-markdown-syntax)\n",
    "[sourcetree_website]: https://www.sourcetreeapp.com/\n",
    "[git_cola_website]: https://git-cola.github.io/\n",
    "[ssh_key_how]: https://support.atlassian.com/bitbucket-cloud/docs/set-up-an-ssh-key/#SetupanSSHkey-ssh3\n",
    "[git_squash_tatorial]: https://www.devroom.io/2011/07/05/git-squash-your-latests-commits-into-one/\n",
    "\n"
   ]
  },
  {
   "cell_type": "markdown",
   "metadata": {},
   "source": [
    " "
   ]
  }
 ],
 "metadata": {
  "kernelspec": {
   "display_name": "Python 3",
   "language": "python",
   "name": "python3"
  },
  "language_info": {
   "codemirror_mode": {
    "name": "ipython",
    "version": 3
   },
   "file_extension": ".py",
   "mimetype": "text/x-python",
   "name": "python",
   "nbconvert_exporter": "python",
   "pygments_lexer": "ipython3",
   "version": "3.8.5"
  }
 },
 "nbformat": 4,
 "nbformat_minor": 4
}
