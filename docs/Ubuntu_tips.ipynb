{
 "cells": [
  {
   "cell_type": "markdown",
   "metadata": {},
   "source": [
    "# Ubuntu Tips/Tricks\n",
    "\n",
    "This is an interactive page, please feel free to add to it. The main objective of this page is to help students to install/configure their PC with ubuntu and solve some issues\n",
    "\n",
    "\n",
    "## Installation  \n",
    "If you want to install Ubuntu with Windows in a dual boot configuration, follow the instruction in [How To Install Ubuntu Alongside Windows 10][inst_ubuntu_dual1], you might need to create a new partition for the Ubuntu Boot\n",
    "\n",
    "## Automatic drive mounting  \n",
    "Most probably, if you want to mount a drive with the NTFS file system, you'll encounter a permission issue; you cannot write in the drive without root permission!\n",
    "The solution to this problem is at the end of the page: [permissions - How do I use 'chmod' on an NTFS (or FAT32) partition?][ntfs_drive_mount1]  \n",
    "\n",
    "Open a terminal window and do:  \n",
    "```bash\n",
    "$ sudo nano /etc/udev/rules.d/90-usb-disks.rules\n",
    "```\n",
    "\n",
    "Then paste this line in what should be a blank/new file (if not, then exit nano and reissue the command but starting the file name with a higher number like 91-...):  \n",
    "\n",
    "```bash\n",
    "ENV{ID_FS_TYPE}==\"ntfs\", ENV{ID_FS_TYPE}=\"ntfs-3g\"\n",
    "```\n",
    "Then save and close. Unplug the drive and then do in terminal:  \n",
    "```bash\n",
    "$ sudo service udev restart\n",
    "```\n",
    "\n",
    "## Installing MATLAB  \n",
    "Follow the instructions mainly after unzipping the installation folder run the command  \n",
    "\n",
    "```bash\n",
    "$ sudo ./install\n",
    "```\n",
    "\n",
    "After installation, if you want to add a launcher icon follow the steps in the page: [matlab - How to create launcher icon][matlab_icon]\n",
    "\n",
    "## SourceTree Replacement\n",
    "As you may found, some programs don't have vesions for Ubuntu, SourceTree is one of them. There are many replacement to SourceTree, but almost all of them are not as good as SourceTree. \n",
    "[Git Cola][git_cola_website] is one of the free programs that some members used.\n",
    "\n",
    "\n",
    "\n",
    "[//]: # (These are reference links used in the body of this note and get stripped out when the markdown processor does its job. There is no need to format nicely because it shouldn't be seen. Thanks SO - http://stackoverflow.com/questions/4823468/store-comments-in-markdown-syntax)\n",
    "   [inst_ubuntu_dual1]:<https://itsfoss.com/install-ubuntu-1404-dual-boot-mode-windows-8-81-uefi/>\n",
    "   [ntfs_drive_mount1]:<https://askubuntu.com/questions/11840/how-do-i-use-chmod-on-an-ntfs-or-fat32-partition>\n",
    "   [matlab_icon]:<https://askubuntu.com/questions/401948/how-to-create-launcher-icon>\n",
    "   [git_cola_website]:<https://git-cola.github.io/>\n",
    "   \n",
    "   "
   ]
  }
 ],
 "metadata": {
  "kernelspec": {
   "display_name": "Python 3",
   "language": "python",
   "name": "python3"
  },
  "language_info": {
   "codemirror_mode": {
    "name": "ipython",
    "version": 3
   },
   "file_extension": ".py",
   "mimetype": "text/x-python",
   "name": "python",
   "nbconvert_exporter": "python",
   "pygments_lexer": "ipython3",
   "version": "3.8.3"
  }
 },
 "nbformat": 4,
 "nbformat_minor": 4
}
