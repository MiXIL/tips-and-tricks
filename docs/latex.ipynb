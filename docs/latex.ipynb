{
 "cells": [
  {
   "cell_type": "markdown",
   "metadata": {},
   "source": [
    "# Citation Management Software\n",
    "# Latex \n",
    "\n",
    "Latex is a software/language system for document preparation. In our group, we used it mainly for papers' writing.\n",
    "\n",
    "## Overleaf\n",
    "[Overleaf](https://overleaf.com) is a platform for latex writing and collaboration. Currently, it's the most common platform, especially for multi-authors writing, as it allows multi-user editing at the same time and adding comments to the text.\n",
    "Overleaf is free, with limitations. However, you can use your USC email to get a premium account, with all the options. For more info about this visit [USC page on overleaf](https://www.overleaf.com/edu/usc).\n",
    "\n",
    "## Learning latex\n",
    "Latex is not hard; however, it's not easy as MS word. Visit the [USC page on overleaf](https://www.overleaf.com/edu/usc#quick-start) to learn the basics of Latex. Also, you can view Mixil members' previous latex files to learn more about the capability of Latex. Always use ``\\label{}`` and ``\\ref{}`` for cross-referencing.\n",
    "\n",
    "### Document structure and format\n",
    "Usually, you'll find the template of the journal you're trying to write for available in the [tempelate page](https://www.overleaf.com/latex/templates) in overleaf. \n",
    "\n",
    "### Equations writing\n",
    "\n",
    "follow The [IEEE Mathematics Guide](http://journals.ieeeauthorcenter.ieee.org/wp-content/uploads/sites/7/Editing-Mathematics.pdf), and the [editing mathematics document](http://journals.ieeeauthorcenter.ieee.org/wp-content/uploads/sites/7/Editing-Mathematics.pdf) for equations writing.\n",
    "when writing units or sequences of numbers, use *siunitx* package instead of writing it manually. the [siunitx manual](http://ctan.math.utah.edu/ctan/tex-archive/macros/latex/contrib/siunitx/siunitx.pdf) has examples for various scenarios.\n",
    "Below some of them:\n",
    "\n",
    "|                       Latex code                                  |        Output       |\n",
    "|:-----------------------------------------------------------------:|:-------------------:|\n",
    "|                         ``\\SI{4.56}{\\cm}``                        |       4.56 cm       |\n",
    "|               ``\\si{\\metre\\cubed\\per\\metre\\cubed}``               |  m $^3$ m $^{-3}$   |\n",
    "| ``(\\SIrange[range-phrase = -, range-units = single]{0}{5}{\\cm})`` |        0-5 cm       |\n",
    "| ``\\SIrange[range-phrase = -, range-units = single]{0}{90}{\\cm}``  |   1, 2.5 and 5 cm   |\n",
    "\n",
    "Note: in equations cross-referencing, use ``\\eqref{}`` instead of the normal referencing.\n",
    "\n",
    "### Acronyms\n",
    "Latex makes dealing with acronyms very easy; with Latex, you don't have to keep track of the acronyms' first use. We use *[acro](https://mirrors.concertpass.com/tex-archive/macros/latex/contrib/acro/acro-manual.pdf)* package for handling acronyms. *acro* has a special command for plural, the first word in a sentence, and adding a/an article. So refine from adding *s* or adding *a*/*an* manually. The [acro manual](https://mirrors.concertpass.com/tex-archive/macros/latex/contrib/acro/acro-manual.pdf) has everything you need to use the package. \n",
    "We use a saparate file for acronyms to keep the files organized. For example we put all the acronyms in `acronyms.tex` file, and we add this to the main file ``\\input{acronyms}``. \n",
    "an example of the definition of acroynm is below:\n",
    "```latex \n",
    "\\DeclareAcronym{DDM}{\n",
    "short = {DDM},\n",
    "long = {delay-Doppler map},\n",
    "long-plural-form = {delay-Doppler maps},  % Not nacessory \n",
    "}\n",
    "```\n",
    "and to write the acronym in the text, use ``\\ac{DDM}``.\n",
    "The most common macros  \n",
    "\n",
    "| *arco* macro |                        Description                               |\n",
    "|:------------:|:----------------------------------------------------------------:|\n",
    "|   ``\\ac{}``  |                         Normal use                               |\n",
    "|   ``\\Ac{}``  | Capitalize the first letter (use at the beginning of a sentence) |\n",
    "|  ``\\acp{}``  |                        Plural form                               |\n",
    "|  ``\\iac{}``  | add either a or an article before the acronym                    |\n",
    "|  ``\\acs{}``  |       use the short form even if it's the first time             |\n",
    "\n",
    "\n",
    "Note: you can mix the command and get the combination of them, i.e. ``\\Iac{}`` will create an acronym with a/an article, and the first letter of the article is capitalized.   \n",
    "\n",
    "### Figures  \n",
    "Try to use vector-based figures, i.e. `eps`, `svg` or `pdf`. It's recomended to put the figures in a saparate folder, and add it to the graphics path using ``graphicspath{}`` macro, i.e. ``\\graphicspath{ {./images/} }``.  \n",
    "Latex has the capability of writing over the figures and even generate a flowchart. For more info, read about *overpic* and *tikz* packages.  \n",
    "\n",
    "### References\n",
    "save the references in a ``BibTeX`` file. Also you can use online reference management tools, i.e. [Mendeley](https://www.mendeley.com/) and [Zotero](https://www.zotero.org/). For more info, read the [overleaf and reference managers page](https://www.overleaf.com/blog/639-tip-of-the-week-overleaf-and-reference-managers). \n",
    "\n",
    "### Latex code examples\n",
    "Here are some of the examples from the group:\n",
    "1. James thesis, you can find it in Mixil Google Drive, in *\\MIXIL\\Internal\\Publications\\Thesis\\Campbell*\n",
    "\n",
    "\n",
    "# Citation Management Software \n",
    "## Mendeley\n",
    "For more info on how to use Mendeley, see the [Mendeley page in USC](https://libguides.usc.edu/c.php?g=293768&p=1956546). In a nutshell, Mendeley is an online/offline program for citation/reference management. It has a browser plug-in, which allows you to import references from the journal website (i.e., IEEE explorer). If you have the [DOI](https://www.doi.org/), you can use it to pull all the reference data. Mendeley also has a group feature, which allows people to create a group of shared references; it increases productivity for multi-authors paper.\n"
   ]
  },
  {
   "cell_type": "markdown",
   "metadata": {},
   "source": [
    " "
   ]
  }
 ],
 "metadata": {
  "kernelspec": {
   "display_name": "Python 3",
   "language": "python",
   "name": "python3"
  },
  "language_info": {
   "codemirror_mode": {
    "name": "ipython",
    "version": 3
   },
   "file_extension": ".py",
   "mimetype": "text/x-python",
   "name": "python",
   "nbconvert_exporter": "python",
   "pygments_lexer": "ipython3",
   "version": "3.7.6"
  }
 },
 "nbformat": 4,
 "nbformat_minor": 4
}
