{
 "cells": [
  {
   "cell_type": "markdown",
   "metadata": {},
   "source": [
    "# Python Tips/Tricks\n",
    "\n",
    "## IDE\n",
    "one of the best IDE (and it works with anaconda) is [intellij][intellij_website], you can use it or use [PyCharm][pycharm_website] which is almost the same. when you download the IDE use the community version. The IDE is very great for debugging as well as syntax correction/auto-complete and support other languages including Fortran and c++\n",
    "## Anaconda\n",
    "you can install [Anaconda][anaconda_website] by downloading the installation file. See the [cheatsheet][conda_cheatsheet] for most used commands. Try always when it's possible to install packages from ``conda-forge`` source. Below an example.  \n",
    "\n",
    "```bash\n",
    "$ conda install -c conda-forge packages_name\n",
    "```\n",
    "\n",
    "## Jupyter Lab  \n",
    "\n",
    "### How to activate interactive plots\n",
    "* Install nodejs, e.g. ``conda install nodejs``\n",
    "* Install ipympl, e.g. ``pip install ipympl``\n",
    "* run:  \n",
    "\n",
    "    ```bash\n",
    "    export JUPYTERLAB_DIR=\"$HOME/.local/share/jupyter/lab\"  \n",
    "    ```\n",
    "  \n",
    "* Install extensions:  \n",
    "\n",
    "    ```bash\n",
    "$ jupyter labextension install @jupyter-widgets/jupyterlab-manager  \n",
    "$ jupyter labextension install jupyter-matplotlib  \n",
    "    ``` \n",
    "    \n",
    "    \n",
    "* Enable widgets:  \n",
    "\n",
    "    ```bash\n",
    "    $ jupyter nbextension enable --py widgetsnbextension\n",
    "    ```\n",
    "    \n",
    "    \n",
    "* Restart JupyterLab.\n",
    "*  Decorate your Jupyter notebook file with ``%matplotlib widget``\n",
    "\n",
    "for more info visit [this page](https://stackoverflow.com/questions/50149562/jupyterlab-interactive-plot)\n",
    "\n",
    "## Tips for MATLAB users\n",
    "NumPy package is pytohn package the scintific numbers package. If you're familiar with MATLAB, the page [NumPy for Matlab users][numpy_matlab] is a good start.\n",
    "The convention is to import `numpy` as the following:\n",
    "```python\n",
    "import numpy as np\n",
    "\n",
    "```\n",
    "\n",
    "\n",
    "[//]: # (These are reference links used in the body of this note and get stripped out when the markdown processor does its job. There is no need to format nicely because it shouldn't be seen. Thanks SO - http://stackoverflow.com/questions/4823468/store-comments-in-markdown-syntax)\n",
    "   [intellij_website]:<https://www.jetbrains.com/idea/download/>\n",
    "   [pycharm_website]: <https://www.jetbrains.com/pycharm/download/>\n",
    "   [anaconda_website]: <https://www.anaconda.com/products/individual>\n",
    "   [conda_cheatsheet]: <https://docs.conda.io/projects/conda/en/latest/user-guide/cheatsheet.html>\n",
    "   [numpy_matlab]: <https://numpy.org/doc/stable/user/numpy-for-matlab-users.html>\n"
   ]
  },
  {
   "cell_type": "markdown",
   "metadata": {},
   "source": [
    " "
   ]
  }
 ],
 "metadata": {
  "kernelspec": {
   "display_name": "Python 3",
   "language": "python",
   "name": "python3"
  },
  "language_info": {
   "codemirror_mode": {
    "name": "ipython",
    "version": 3
   },
   "file_extension": ".py",
   "mimetype": "text/x-python",
   "name": "python",
   "nbconvert_exporter": "python",
   "pygments_lexer": "ipython3",
   "version": "3.8.4"
  }
 },
 "nbformat": 4,
 "nbformat_minor": 4
}
